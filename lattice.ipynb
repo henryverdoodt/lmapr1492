{
 "cells": [
  {
   "cell_type": "code",
   "execution_count": 25,
   "id": "silent-probability",
   "metadata": {},
   "outputs": [],
   "source": [
    "from pymatgen import Structure\n",
    "from jupyter_jsmol.pymatgen import quick_view\n",
    "from pymatgen.ext.matproj import MPRester\n",
    "from pymatgen.symmetry.analyzer import SpacegroupAnalyzer\n",
    "\n",
    "from pymatgen import Lattice, Structure, Molecule"
   ]
  },
  {
   "cell_type": "code",
   "execution_count": 26,
   "id": "greek-homeless",
   "metadata": {},
   "outputs": [],
   "source": [
    "with MPRester(\"Lyz7DTq5tVKRlBe9\") as m:\n",
    "\n",
    "    structure = m.get_structure_by_material_id(\"mp-672285\")"
   ]
  },
  {
   "cell_type": "code",
   "execution_count": 27,
   "id": "violent-nightlife",
   "metadata": {},
   "outputs": [],
   "source": [
    "view = quick_view(structure, \"packed\", supercell = [3,3,3])\n",
    "#display(view)\n",
    "#view.script(\"draw symop 4 {atomno=3}\")"
   ]
  },
  {
   "cell_type": "code",
   "execution_count": 28,
   "id": "promotional-tracy",
   "metadata": {},
   "outputs": [],
   "source": [
    "vecteurs = structure.lattice.abc\n",
    "angles = structure.lattice.angles\n",
    "\n",
    "vecteursR = structure.lattice.reciprocal_lattice.abc\n",
    "anglesR = structure.lattice.reciprocal_lattice.angles\n",
    "\n",
    "space = SpacegroupAnalyzer(structure)\n",
    "\n",
    "crystal = space.get_crystal_system()\n",
    "groupeP = space.get_point_group_symbol()\n",
    "maille = space.get_lattice_type()"
   ]
  },
  {
   "cell_type": "code",
   "execution_count": 29,
   "id": "sound-timing",
   "metadata": {},
   "outputs": [
    {
     "name": "stdout",
     "output_type": "stream",
     "text": [
      "vecteurs de bases du réseau direct: \n",
      "a = 5.915192138569972 Å\n",
      "b = 5.915192138569972 Å\n",
      "c = 5.915192292671643 Å \n",
      "\n",
      "α = 38.01868666468691 °\n",
      "β = 38.01868666468691 °\n",
      "γ = 38.01868234083633 ° \n",
      "\n",
      "vecteurs de bases du réseau réciproque: \n",
      "a* = 1.921181036478042 Å\n",
      "b* = 1.921181036478042 Å\n",
      "c* = 1.9211808009829705 Å \n",
      "\n",
      "α = 116.1457673547157 °\n",
      "β = 116.1457673547157 °\n",
      "γ = 116.14577862119798 ° \n",
      "\n",
      "Type de maille:  rhombohedral\n",
      "Système cristallin:  trigonal\n",
      "Groupe ponctuel:  3m\n"
     ]
    }
   ],
   "source": [
    "#PRINT\n",
    "print(\"vecteurs de bases du réseau direct: \")\n",
    "print(\"a =\",vecteurs[0],\"Å\")\n",
    "print(\"b =\",vecteurs[1],\"Å\")\n",
    "print(\"c =\",vecteurs[2],\"Å\",\"\\n\")\n",
    "print(\"α =\",angles[0],\"°\")\n",
    "print(\"β =\",angles[1],\"°\")\n",
    "print(\"γ =\",angles[2],\"°\",\"\\n\")\n",
    "\n",
    "print(\"vecteurs de bases du réseau réciproque: \")\n",
    "print(\"a* =\",vecteursR[0],\"Å\")\n",
    "print(\"b* =\",vecteursR[1],\"Å\")\n",
    "print(\"c* =\",vecteursR[2],\"Å\",\"\\n\")\n",
    "print(\"α =\",anglesR[0],\"°\")\n",
    "print(\"β =\",anglesR[1],\"°\")\n",
    "print(\"γ =\",anglesR[2],\"°\",\"\\n\")\n",
    "\n",
    "print(\"Type de maille: \", maille)\n",
    "print(\"Système cristallin: \", crystal)\n",
    "print(\"Groupe ponctuel: \", groupeP)"
   ]
  },
  {
   "cell_type": "raw",
   "id": "loaded-theater",
   "metadata": {},
   "source": []
  }
 ],
 "metadata": {
  "kernelspec": {
   "display_name": "Python 3",
   "language": "python",
   "name": "python3"
  },
  "language_info": {
   "codemirror_mode": {
    "name": "ipython",
    "version": 3
   },
   "file_extension": ".py",
   "mimetype": "text/x-python",
   "name": "python",
   "nbconvert_exporter": "python",
   "pygments_lexer": "ipython3",
   "version": "3.6.8"
  }
 },
 "nbformat": 4,
 "nbformat_minor": 5
}
