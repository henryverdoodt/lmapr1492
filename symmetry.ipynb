{
 "cells": [
  {
   "cell_type": "code",
   "execution_count": 28,
   "id": "previous-payment",
   "metadata": {},
   "outputs": [],
   "source": [
    "from pymatgen import Structure\n",
    "from jupyter_jsmol.pymatgen import quick_view\n",
    "from pymatgen.ext.matproj import MPRester\n",
    "from pymatgen.symmetry.analyzer import SpacegroupAnalyzer\n",
    "from pymatgen.core.operations import *\n",
    "from pymatgen.symmetry.site_symmetries import *\n",
    "from IPython.display import Image"
   ]
  },
  {
   "cell_type": "code",
   "execution_count": 29,
   "id": "polar-kentucky",
   "metadata": {},
   "outputs": [],
   "source": [
    "with MPRester(\"Lyz7DTq5tVKRlBe9\") as m:\n",
    "    structure = m.get_structure_by_material_id(\"mp-672285\") "
   ]
  },
  {
   "cell_type": "code",
   "execution_count": 30,
   "id": "cubic-massachusetts",
   "metadata": {},
   "outputs": [],
   "source": [
    "#Operation de Symétries du fichier CIF\n",
    "sym1 = SymmOp.from_xyz_string('-y,-x,z')\n",
    "sym2 = SymmOp.from_xyz_string('-y, x-y, z')\n",
    "sym3 = SymmOp.from_xyz_string('-x+y, -x, z')\n",
    "\n",
    "#Coordonnées Atomes avant SymOp\n",
    "Cu = [1, 0, 0] #atomno=8\n",
    "C = [0.1875, 0.1875, 0.1875] #atomno=2\n",
    "S = [0.2889, 0.2889, 0.2889] #atomno=3\n",
    "\n",
    "#Coordonnées Atomes après SymOp\n",
    "Cu_sym = sym1.operate(Cu)\n",
    "C_sym = sym2.operate(C)\n",
    "S_sym = sym3.operate(S)"
   ]
  },
  {
   "cell_type": "markdown",
   "id": "rotary-anthropology",
   "metadata": {},
   "source": [
    "# Opération de symétrie 1 : Plan miroir"
   ]
  },
  {
   "cell_type": "code",
   "execution_count": 37,
   "id": "outdoor-digit",
   "metadata": {},
   "outputs": [
    {
     "name": "stdout",
     "output_type": "stream",
     "text": [
      "Les coordonnées initial de l'atome de Cu sont: [1. 0. 0.]\n",
      "Apres l'opération de symmétrie, ces coordonnées sont [ 0. -1.  0.] \n",
      "\n",
      "L'équation de la symétrie est :  -y, -x, z\n",
      "La matrices de rotation et le vecteur de translation sont : \n",
      " Rot:\n",
      "[[ 0. -1.  0.]\n",
      " [-1.  0.  0.]\n",
      " [ 0.  0.  1.]]\n",
      "tau\n",
      "[0. 0. 0.] \n",
      "\n"
     ]
    },
    {
     "data": {
      "application/vnd.jupyter.widget-view+json": {
       "model_id": "cdf5ed57639741fe89a5659415ce82e3",
       "version_major": 2,
       "version_minor": 0
      },
      "text/plain": [
       "JsmolView(layout=Layout(align_self='stretch', height='400px'))"
      ]
     },
     "metadata": {},
     "output_type": "display_data"
    }
   ],
   "source": [
    "print(\"Les coordonnées initial de l'atome de Cu sont: [1. 0. 0.]\")\n",
    "print(\"Apres l'opération de symmétrie, ces coordonnées sont\",Cu_sym, \"\\n\")\n",
    "print(\"L'équation de la symétrie est : \", sym1.as_xyz_string())\n",
    "print(\"La matrices de rotation et le vecteur de translation sont : \\n\", sym1, \"\\n\")\n",
    "Image(filename='sym1_Cu.png')\n",
    "\n",
    "\n",
    "view1 = quick_view(structure,\"packed\", supercell= [1,1,1])\n",
    "display(view1)\n",
    "view1.script(\"draw symop 4 {atomno=8}\")"
   ]
  },
  {
   "cell_type": "markdown",
   "id": "offshore-heritage",
   "metadata": {},
   "source": [
    "# Opération de symétrie 2 : Rotation C3"
   ]
  },
  {
   "cell_type": "code",
   "execution_count": 32,
   "id": "rocky-default",
   "metadata": {},
   "outputs": [
    {
     "name": "stdout",
     "output_type": "stream",
     "text": [
      "Les coordonnées initial de l'atome de C sont: [0.1875 0.1875 0.1875]\n",
      "Apres l'opération de symmétrie, ces coordonnées sont [-0.1875  0.      0.1875] \n",
      "\n",
      "L'équation de la symétrie est :  -y, x-y, z\n",
      "Les matrices de rotation et de translation sont : \n",
      " Rot:\n",
      "[[ 0. -1.  0.]\n",
      " [ 1. -1.  0.]\n",
      " [ 0.  0.  1.]]\n",
      "tau\n",
      "[0. 0. 0.] \n",
      "\n"
     ]
    },
    {
     "data": {
      "application/vnd.jupyter.widget-view+json": {
       "model_id": "",
       "version_major": 2,
       "version_minor": 0
      },
      "text/plain": [
       "JsmolView(layout=Layout(align_self='stretch', height='400px'))"
      ]
     },
     "metadata": {},
     "output_type": "display_data"
    }
   ],
   "source": [
    "print(\"Les coordonnées initial de l'atome de C sont: [0.1875 0.1875 0.1875]\")\n",
    "print(\"Apres l'opération de symmétrie, ces coordonnées sont\",C_sym, \"\\n\")\n",
    "print(\"L'équation de la symétrie est : \", sym2.as_xyz_string())\n",
    "print(\"Les matrices de rotation et de translation sont : \\n\", sym2, \"\\n\")\n",
    "Image(filename='sym2_C.png')\n",
    "\n",
    "view2 = quick_view(structure,\"packed\", supercell= [1,1,1])\n",
    "display(view2)\n",
    "view2.script(\"draw symop 2 {atomno=2}\")"
   ]
  },
  {
   "cell_type": "markdown",
   "id": "secure-insulation",
   "metadata": {},
   "source": [
    "# Opération de symétrie 3 : Rotation C3 "
   ]
  },
  {
   "cell_type": "code",
   "execution_count": 33,
   "id": "female-lesson",
   "metadata": {},
   "outputs": [
    {
     "name": "stdout",
     "output_type": "stream",
     "text": [
      "Les coordonnées initial de l'atome de S sont: [0.2889 0.2889 0.2889]\n",
      "Apres l'opération de symmétrie, ces coordonnées sont [ 0.     -0.2889  0.2889] \n",
      "\n",
      "L'équation de la symétrie est :  -x+y, -x, z\n",
      "Les matrices de rotation et de translation sont : \n",
      " Rot:\n",
      "[[-1.  1.  0.]\n",
      " [-1.  0.  0.]\n",
      " [ 0.  0.  1.]]\n",
      "tau\n",
      "[0. 0. 0.] \n",
      "\n"
     ]
    },
    {
     "data": {
      "application/vnd.jupyter.widget-view+json": {
       "model_id": "",
       "version_major": 2,
       "version_minor": 0
      },
      "text/plain": [
       "JsmolView(layout=Layout(align_self='stretch', height='400px'))"
      ]
     },
     "metadata": {},
     "output_type": "display_data"
    }
   ],
   "source": [
    "print(\"Les coordonnées initial de l'atome de S sont: [0.2889 0.2889 0.2889]\")\n",
    "print(\"Apres l'opération de symmétrie, ces coordonnées sont\",S_sym, \"\\n\")\n",
    "print(\"L'équation de la symétrie est : \", sym3.as_xyz_string())\n",
    "print(\"Les matrices de rotation et de translation sont : \\n\", sym3, \"\\n\")\n",
    "Image(filename='sym3_S.png')\n",
    "\n",
    "view3 = quick_view(structure,\"packed\", supercell= [1,1,1])\n",
    "display(view3)\n",
    "view3.script(\"draw symop 3 {atomno=3}\")"
   ]
  },
  {
   "cell_type": "code",
   "execution_count": 34,
   "id": "athletic-basketball",
   "metadata": {},
   "outputs": [],
   "source": [
    "view1.close_all()"
   ]
  },
  {
   "cell_type": "markdown",
   "id": "eligible-appraisal",
   "metadata": {},
   "source": [
    "# Note"
   ]
  },
  {
   "cell_type": "code",
   "execution_count": 35,
   "id": "arbitrary-millennium",
   "metadata": {},
   "outputs": [
    {
     "name": "stdout",
     "output_type": "stream",
     "text": [
      "Le groupe ponctuel du cristal CuCSN_mp-672285 est 3m ce qui veut dire qu'il n'existe que 2 opérations de symétries différentes: Rotation C3 [3] et Plan miroir [m].\n",
      " \n",
      "Il est aussi important de remarquer que l'axe de rotation C3 passes a travers les atomes de C, S et N. Par ce fait nous ne voyons pas bien l'angle de 120° dû à cette rotation mais il suffit de faire cette opération de symétrie avec un atome de Cu pour bien voir cette rotation de 120°. \n"
     ]
    }
   ],
   "source": [
    "print(\"Le groupe ponctuel du cristal CuCSN_mp-672285 est 3m ce qui veut dire qu'il n'existe que 2 opérations de symétries différentes: Rotation C3 [3] et Plan miroir [m].\\n \")\n",
    "print(\"Il est aussi important de remarquer que l'axe de rotation C3 passes a travers les atomes de C, S et N. Par ce fait nous ne voyons pas bien l'angle de 120° dû à cette rotation mais il suffit de faire cette opération de symétrie avec un atome de Cu pour bien voir cette rotation de 120°. \")"
   ]
  },
  {
   "cell_type": "code",
   "execution_count": null,
   "id": "challenging-roller",
   "metadata": {},
   "outputs": [],
   "source": []
  }
 ],
 "metadata": {
  "kernelspec": {
   "display_name": "Python 3",
   "language": "python",
   "name": "python3"
  },
  "language_info": {
   "codemirror_mode": {
    "name": "ipython",
    "version": 3
   },
   "file_extension": ".py",
   "mimetype": "text/x-python",
   "name": "python",
   "nbconvert_exporter": "python",
   "pygments_lexer": "ipython3",
   "version": "3.6.8"
  }
 },
 "nbformat": 4,
 "nbformat_minor": 5
}
